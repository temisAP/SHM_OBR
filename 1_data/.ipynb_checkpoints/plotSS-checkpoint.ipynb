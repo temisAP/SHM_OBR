{
 "cells": [
  {
   "cell_type": "code",
   "execution_count": null,
   "metadata": {
    "gather": {
     "logged": 1648029624535
    },
    "gradient": {
     "editing": true,
     "execution_count": 10,
     "id": "bde1b0d1-175a-4e39-a1a2-26f617250825",
     "kernelId": "4ecac8bd-b85c-4bb2-b5ee-71db29a5d5b8"
    }
   },
   "outputs": [],
   "source": [
    "import os\n",
    "import sys\n",
    "\n",
    "sys.path.append('../0_sources/PYTHON')\n",
    "\n",
    "from SPECTRAL_SHIFT.read_obr import multi_read_obr\n",
    "from SPECTRAL_SHIFT.Spectral_Shift import global_spectral_shift\n",
    "from UTILS.utils import find_all_OBR\n",
    "from PLOTS.plots import temperature_plot\n",
    "import numpy as np"
   ]
  },
  {
   "cell_type": "code",
   "execution_count": null,
   "metadata": {
    "gather": {
     "logged": 1648029639466
    },
    "gradient": {
     "editing": false,
     "execution_count": 12,
     "id": "af5bfb51-3579-4a50-93d6-9361e99cabd7",
     "kernelId": "4ecac8bd-b85c-4bb2-b5ee-71db29a5d5b8"
    },
    "jupyter": {
     "outputs_hidden": false,
     "source_hidden": false
    },
    "nteract": {
     "transient": {
      "deleting": false
     }
    }
   },
   "outputs": [
    {
     "name": "stdout",
     "output_type": "stream",
     "text": [
      "['0.0_mm_180.00_grados_2_1', '0_mm_100.10_grados_1_2', '0_mm_124.50_grados_1_1', '0_mm_164.50_grados_1_3', '0_mm_50.10_grados_2_4', '0_mm_85.10_grados_1_5', '3.11172462406015_mm_100.30_grados_2_2', '3.11172462406015_mm_104.90_grados_1_3', '3.11172462406015_mm_105.60_grados_2_3', '3.11172462406015_mm_109.80_grados_2_4', '3.11172462406015_mm_111.00_grados_1_4', '3.11172462406015_mm_116.30_grados_prueba_99', '3.11172462406015_mm_129.80_grados_2_2', '3.11172462406015_mm_149.80_grados_1_0', '3.11172462406015_mm_174.80_grados_1_5', '3.11172462406015_mm_199.70_grados_1_4', '3.11172462406015_mm_55.10_grados_2_5', '3.11172462406015_mm_89.50_grados_1_0', '3.11172462406015_mm_90.20_grados_1_0', '3.11172462406015_mm_91.10_grados_1_0', '3.11172462406015_mm_96.70_grados_1_1', '6.2234492481203_mm_106.50_grados_prueba_99', '6.2234492481203_mm_130.00_grados_2_2', '6.2234492481203_mm_155.00_grados_1_1', '6.2234492481203_mm_174.70_grados_1_5', '6.2234492481203_mm_194.90_grados_1_3', '6.2234492481203_mm_40.00_grados_2_2', '6.2234492481203_mm_55.30_grados_prueba_99', '6.2234492481203_mm_80.00_grados_1_4', '6.2234492481203_mm_99.90_grados_2_2', '9.33517387218045_mm_119.70_grados_1_0', '9.33517387218045_mm_139.80_grados_1_4', '9.33517387218045_mm_164.80_grados_2_3', '9.33517387218045_mm_189.80_grados_2_2', '9.33517387218045_mm_35.10_grados_2_1', '9.33517387218045_mm_60.00_grados_1_0', '9.33517387218045_mm_85.00_grados_1_5', '12.4468984962406_mm_110.00_grados_2_4', '12.4468984962406_mm_129.90_grados_1_2', '12.4468984962406_mm_150.10_grados_2_0', '12.4468984962406_mm_174.40_grados_2_5', '12.4468984962406_mm_194.90_grados_2_3', '12.4468984962406_mm_45.00_grados_1_3', '12.4468984962406_mm_65.20_grados_2_1', '12.4468984962406_mm_87.20_grados_1_5', '0_mm_30.00_grados_2_0']\n"
     ]
    }
   ],
   "source": [
    "\"\"\" Path to data and REF \"\"\"\n",
    "\n",
    "folder = 'CMT/0_OBR'\n",
    "path_to_data = f'../../../../Datasets/{folder}'\n",
    "files = find_all_OBR(path_to_data)\n",
    "files = files[0:-1:10]\n",
    "files.append('0_mm_30.00_grados_2_0')\n",
    "\n",
    "print(files)"
   ]
  },
  {
   "cell_type": "code",
   "execution_count": null,
   "metadata": {
    "gather": {
     "logged": 1648029816216
    },
    "gradient": {
     "editing": false,
     "execution_count": 13,
     "id": "e9288031-2f13-487c-b911-6f662fdc73ab",
     "kernelId": "4ecac8bd-b85c-4bb2-b5ee-71db29a5d5b8"
    },
    "jupyter": {
     "outputs_hidden": false,
     "source_hidden": false
    },
    "nteract": {
     "transient": {
      "deleting": false
     }
    }
   },
   "outputs": [
    {
     "name": "stdout",
     "output_type": "stream",
     "text": [
      "*Start reading\n",
      "Reading 0_mm_30.00_grados_2_0\n",
      "*End reading\n",
      "*Start reading\n",
      "Reading 0.0_mm_180.00_grados_2_1\n",
      "*End reading\n",
      "*Computing relative spectral shift\n",
      "*Relative spectral shift done!███████████████████████████████| 100.0% Complete\n",
      "*Start reading\n",
      "Reading 0_mm_100.10_grados_1_2\n",
      "*End reading\n",
      "*Computing relative spectral shift\n",
      "*Relative spectral shift done!███████████████████████████████| 100.0% Complete\n",
      "*Start reading\n",
      "Reading 0_mm_124.50_grados_1_1\n",
      "*End reading\n",
      "*Computing relative spectral shift\n",
      "*Relative spectral shift done!███████████████████████████████| 100.0% Complete\n",
      "*Start reading\n",
      "Reading 0_mm_164.50_grados_1_3\n",
      "*End reading\n",
      "*Computing relative spectral shift\n",
      "*Relative spectral shift done!███████████████████████████████| 100.0% Complete\n",
      "*Start reading\n",
      "Reading 0_mm_50.10_grados_2_4\n",
      "*End reading\n",
      "*Computing relative spectral shift\n",
      "*Relative spectral shift done!███████████████████████████████| 100.0% Complete\n",
      "*Start reading\n",
      "Reading 0_mm_85.10_grados_1_5\n",
      "*End reading\n",
      "*Computing relative spectral shift\n",
      "*Relative spectral shift done!███████████████████████████████| 100.0% Complete\n",
      "*Start reading\n",
      "Reading 3.11172462406015_mm_100.30_grados_2_2\n",
      "*End reading\n",
      "*Computing relative spectral shift\n",
      "*Relative spectral shift done!███████████████████████████████| 100.0% Complete\n",
      "*Start reading\n",
      "Reading 3.11172462406015_mm_104.90_grados_1_3\n",
      "*End reading\n",
      "*Computing relative spectral shift\n",
      "*Relative spectral shift done!███████████████████████████████| 100.0% Complete\n",
      "*Start reading\n",
      "Reading 3.11172462406015_mm_105.60_grados_2_3\n",
      "*End reading\n",
      "*Computing relative spectral shift\n",
      "*Relative spectral shift done!███████████████████████████████| 100.0% Complete\n",
      "*Start reading\n",
      "Reading 3.11172462406015_mm_109.80_grados_2_4\n",
      "*End reading\n",
      "*Computing relative spectral shift\n",
      "*Relative spectral shift done!███████████████████████████████| 100.0% Complete\n",
      "*Start reading\n",
      "Reading 3.11172462406015_mm_111.00_grados_1_4\n",
      "*End reading\n",
      "*Computing relative spectral shift\n",
      "*Relative spectral shift done!███████████████████████████████| 100.0% Complete\n",
      "*Start reading\n",
      "Reading 3.11172462406015_mm_116.30_grados_prueba_99\n",
      "*End reading\n",
      "*Computing relative spectral shift\n",
      "*Relative spectral shift done!███████████████████████████████| 100.0% Complete\n",
      "*Start reading\n",
      "Reading 3.11172462406015_mm_129.80_grados_2_2\n",
      "*End reading\n",
      "*Computing relative spectral shift\n",
      "*Relative spectral shift done!███████████████████████████████| 100.0% Complete\n",
      "*Start reading\n",
      "Reading 3.11172462406015_mm_149.80_grados_1_0\n",
      "*End reading\n",
      "*Computing relative spectral shift\n",
      "*Relative spectral shift done!███████████████████████████████| 100.0% Complete\n",
      "*Start reading\n",
      "Reading 3.11172462406015_mm_174.80_grados_1_5\n",
      "*End reading\n",
      "*Computing relative spectral shift\n",
      "*Relative spectral shift done!███████████████████████████████| 100.0% Complete\n",
      "*Start reading\n",
      "Reading 3.11172462406015_mm_199.70_grados_1_4\n",
      "*End reading\n",
      "*Computing relative spectral shift\n",
      "*Relative spectral shift done!███████████████████████████████| 100.0% Complete\n",
      "*Start reading\n",
      "Reading 3.11172462406015_mm_55.10_grados_2_5\n",
      "*End reading\n",
      "*Computing relative spectral shift\n",
      "*Relative spectral shift done!███████████████████████████████| 100.0% Complete\n",
      "*Start reading\n",
      "Reading 3.11172462406015_mm_89.50_grados_1_0\n",
      "*End reading\n",
      "*Computing relative spectral shift\n",
      "*Relative spectral shift done!███████████████████████████████| 100.0% Complete\n",
      "*Start reading\n",
      "Reading 3.11172462406015_mm_90.20_grados_1_0\n",
      "*End reading\n",
      "*Computing relative spectral shift\n",
      "*Relative spectral shift done!███████████████████████████████| 100.0% Complete\n",
      "*Start reading\n",
      "Reading 3.11172462406015_mm_91.10_grados_1_0\n",
      "*End reading\n",
      "*Computing relative spectral shift\n",
      "*Relative spectral shift done!███████████████████████████████| 100.0% Complete\n",
      "*Start reading\n",
      "Reading 3.11172462406015_mm_96.70_grados_1_1\n",
      "*End reading\n",
      "*Computing relative spectral shift\n",
      "*Relative spectral shift done!███████████████████████████████| 100.0% Complete\n",
      "*Start reading\n",
      "Reading 6.2234492481203_mm_106.50_grados_prueba_99\n",
      "*End reading\n",
      "*Computing relative spectral shift\n",
      "*Relative spectral shift done!███████████████████████████████| 100.0% Complete\n",
      "*Start reading\n",
      "Reading 6.2234492481203_mm_130.00_grados_2_2\n",
      "*End reading\n",
      "*Computing relative spectral shift\n",
      "*Relative spectral shift done!███████████████████████████████| 100.0% Complete\n",
      "*Start reading\n",
      "Reading 6.2234492481203_mm_155.00_grados_1_1\n",
      "*End reading\n",
      "*Computing relative spectral shift\n",
      "*Relative spectral shift done!███████████████████████████████| 100.0% Complete\n",
      "*Start reading\n",
      "Reading 6.2234492481203_mm_174.70_grados_1_5\n",
      "*End reading\n",
      "*Computing relative spectral shift\n",
      "*Relative spectral shift done!███████████████████████████████| 100.0% Complete\n",
      "*Start reading\n",
      "Reading 6.2234492481203_mm_194.90_grados_1_3\n",
      "*End reading\n",
      "*Computing relative spectral shift\n",
      "*Relative spectral shift done!███████████████████████████████| 100.0% Complete\n",
      "*Start reading\n",
      "Reading 6.2234492481203_mm_40.00_grados_2_2\n",
      "*End reading\n",
      "*Computing relative spectral shift\n",
      "*Relative spectral shift done!███████████████████████████████| 100.0% Complete\n",
      "*Start reading\n",
      "Reading 6.2234492481203_mm_55.30_grados_prueba_99\n",
      "*End reading\n",
      "*Computing relative spectral shift\n",
      "*Relative spectral shift done!███████████████████████████████| 100.0% Complete\n",
      "*Start reading\n",
      "Reading 6.2234492481203_mm_80.00_grados_1_4\n",
      "*End reading\n",
      "*Computing relative spectral shift\n",
      "*Relative spectral shift done!███████████████████████████████| 100.0% Complete\n",
      "*Start reading\n",
      "Reading 6.2234492481203_mm_99.90_grados_2_2\n",
      "*End reading\n",
      "*Computing relative spectral shift\n",
      "*Relative spectral shift done!███████████████████████████████| 100.0% Complete\n",
      "*Start reading\n",
      "Reading 9.33517387218045_mm_119.70_grados_1_0\n",
      "*End reading\n",
      "*Computing relative spectral shift\n",
      "*Relative spectral shift done!███████████████████████████████| 100.0% Complete\n",
      "*Start reading\n",
      "Reading 9.33517387218045_mm_139.80_grados_1_4\n",
      "*End reading\n",
      "*Computing relative spectral shift\n",
      "*Relative spectral shift done!███████████████████████████████| 100.0% Complete\n",
      "*Start reading\n",
      "Reading 9.33517387218045_mm_164.80_grados_2_3\n",
      "*End reading\n",
      "*Computing relative spectral shift\n",
      "*Relative spectral shift done!███████████████████████████████| 100.0% Complete\n",
      "*Start reading\n",
      "Reading 9.33517387218045_mm_189.80_grados_2_2\n",
      "*End reading\n",
      "*Computing relative spectral shift\n",
      "*Relative spectral shift done!███████████████████████████████| 100.0% Complete\n",
      "*Start reading\n",
      "Reading 9.33517387218045_mm_35.10_grados_2_1\n",
      "*End reading\n",
      "*Computing relative spectral shift\n",
      "*Relative spectral shift done!███████████████████████████████| 100.0% Complete\n",
      "*Start reading\n",
      "Reading 9.33517387218045_mm_60.00_grados_1_0\n",
      "*End reading\n",
      "*Computing relative spectral shift\n",
      "*Relative spectral shift done!███████████████████████████████| 100.0% Complete\n",
      "*Start reading\n",
      "Reading 9.33517387218045_mm_85.00_grados_1_5\n",
      "*End reading\n",
      "*Computing relative spectral shift\n",
      "*Relative spectral shift done!███████████████████████████████| 100.0% Complete\n",
      "*Start reading\n",
      "Reading 12.4468984962406_mm_110.00_grados_2_4\n",
      "*End reading\n",
      "*Computing relative spectral shift\n",
      "*Relative spectral shift done!███████████████████████████████| 100.0% Complete\n",
      "*Start reading\n",
      "Reading 12.4468984962406_mm_129.90_grados_1_2\n",
      "*End reading\n",
      "*Computing relative spectral shift\n",
      "*Relative spectral shift done!███████████████████████████████| 100.0% Complete\n",
      "*Start reading\n",
      "Reading 12.4468984962406_mm_150.10_grados_2_0\n",
      "*End reading\n",
      "*Computing relative spectral shift\n",
      "*Relative spectral shift done!███████████████████████████████| 100.0% Complete\n",
      "*Start reading\n",
      "Reading 12.4468984962406_mm_174.40_grados_2_5\n",
      "*End reading\n",
      "*Computing relative spectral shift\n",
      "*Relative spectral shift done!███████████████████████████████| 100.0% Complete\n",
      "*Start reading\n",
      "Reading 12.4468984962406_mm_194.90_grados_2_3\n",
      "*End reading\n",
      "*Computing relative spectral shift\n",
      "*Relative spectral shift done!███████████████████████████████| 100.0% Complete\n",
      "*Start reading\n",
      "Reading 12.4468984962406_mm_45.00_grados_1_3\n",
      "*End reading\n",
      "*Computing relative spectral shift\n",
      "*Relative spectral shift done!███████████████████████████████| 100.0% Complete\n",
      "*Start reading\n",
      "Reading 12.4468984962406_mm_65.20_grados_2_1\n",
      "*End reading\n",
      "*Computing relative spectral shift\n",
      "*Relative spectral shift done!███████████████████████████████| 100.0% Complete\n",
      "*Start reading\n",
      "Reading 12.4468984962406_mm_87.20_grados_1_5\n",
      "*End reading\n",
      "*Computing relative spectral shift\n",
      "*Relative spectral shift done!███████████████████████████████| 100.0% Complete\n"
     ]
    }
   ],
   "source": [
    "\"\"\" Compute and plot ss \"\"\"\n",
    "\n",
    "# Parameters\n",
    "REF = '0_mm_30.00_grados_2_0' \n",
    "limit1 = 1\n",
    "limit2 = 5\n",
    "delta = 300\n",
    "window = 1000\n",
    "\n",
    "# Get reference\n",
    "files.remove(REF)\n",
    "f,z,Data = multi_read_obr([REF],path_to_data,limit1=limit1,limit2=limit2)\n",
    "Data_REF = Data[REF]\n",
    "\n",
    "# Get spectralshifts\n",
    "spectralshifts = list()\n",
    "for i,file in enumerate(files):\n",
    "    f,z,Data = multi_read_obr([file],path_to_data,limit1=limit1,limit2=limit2)\n",
    "    spectralshift = global_spectral_shift(Data_REF[0],Data[file][0],f,delta=delta,window=window)\n",
    "    spectralshifts.append(spectralshift)\n"
   ]
  },
  {
   "cell_type": "code",
   "execution_count": null,
   "metadata": {
    "gather": {
     "logged": 1648030865540
    },
    "gradient": {
     "editing": false,
     "execution_count": 24,
     "id": "962ff7f7-5db1-4cc0-ae23-008029c60f03",
     "kernelId": "4ecac8bd-b85c-4bb2-b5ee-71db29a5d5b8"
    },
    "jupyter": {
     "outputs_hidden": false,
     "source_hidden": false
    },
    "nteract": {
     "transient": {
      "deleting": false
     }
    }
   },
   "outputs": [
    {
     "data": {
      "image/png": "[encoded data removed]",
      "text/plain": [
       "<Figure size 432x288 with 1 Axes>"
      ]
     },
     "metadata": {
      "needs_background": "light"
     },
     "output_type": "display_data"
    }
   ],
   "source": [
    "z = np.linspace(z[0],z[-1],len(spectralshift))\n",
    "\n",
    "# Plot\n",
    "\n",
    "import  matplotlib.pyplot as plt\n",
    "for spectralshift,file in zip(spectralshifts,files):\n",
    "    plt.plot(z,spectralshift)\n",
    "\n",
    "plt.grid()\n"
   ]
  },
  {
   "cell_type": "markdown",
   "metadata": {
    "gradient": {
     "editing": false,
     "id": "7793b181-d557-4956-a79b-33081bb03088",
     "kernelId": "4ecac8bd-b85c-4bb2-b5ee-71db29a5d5b8"
    },
    "nteract": {
     "transient": {
      "deleting": false
     }
    }
   },
   "source": [
    "# START AND END"
   ]
  },
  {
   "cell_type": "code",
   "execution_count": null,
   "metadata": {
    "gather": {
     "logged": 1648030870412
    },
    "gradient": {
     "editing": false,
     "execution_count": 25,
     "id": "3be366eb-98d0-4116-8daa-d14f7ebe328f",
     "kernelId": "4ecac8bd-b85c-4bb2-b5ee-71db29a5d5b8"
    },
    "jupyter": {
     "outputs_hidden": false,
     "source_hidden": false
    },
    "nteract": {
     "transient": {
      "deleting": false
     }
    }
   },
   "outputs": [
    {
     "name": "stdout",
     "output_type": "stream",
     "text": [
      "['ref', 'ini', 'fin']\n"
     ]
    }
   ],
   "source": [
    "# Read files\n",
    "\n",
    "folder = 'CMT/0_OBR/Start_and_End/Temperature_points'\n",
    "path_to_data = f'../../../../Datasets/{folder}'\n",
    "files = ['ref','ini','fin']\n",
    "\n",
    "print(files)"
   ]
  },
  {
   "cell_type": "code",
   "execution_count": null,
   "metadata": {
    "gather": {
     "logged": 1648030884168
    },
    "gradient": {
     "editing": false,
     "execution_count": 26,
     "id": "57c92ee8-5e30-41f3-927b-45898feae20f",
     "kernelId": "4ecac8bd-b85c-4bb2-b5ee-71db29a5d5b8"
    },
    "jupyter": {
     "outputs_hidden": false,
     "source_hidden": false
    },
    "nteract": {
     "transient": {
      "deleting": false
     }
    }
   },
   "outputs": [
    {
     "name": "stdout",
     "output_type": "stream",
     "text": [
      "*Start reading\n",
      "Reading ref\n",
      "*End reading\n",
      "*Start reading\n",
      "Reading ini\n",
      "*End reading\n",
      "*Computing relative spectral shift\n",
      "*Relative spectral shift done!███████████████████████████████| 100.0% Complete\n",
      "*Start reading\n",
      "Reading fin\n",
      "*End reading\n",
      "*Computing relative spectral shift\n",
      "*Relative spectral shift done!███████████████████████████████| 100.0% Complete\n"
     ]
    },
    {
     "data": {
      "image/png": "[encoded data removed]",
      "text/plain": [
       "<Figure size 432x288 with 1 Axes>"
      ]
     },
     "metadata": {
      "needs_background": "light"
     },
     "output_type": "display_data"
    }
   ],
   "source": [
    "# Parameters\n",
    "REF = 'ref'\n",
    "limit1 = 1\n",
    "limit2 = 5\n",
    "delta = 300\n",
    "window = 1000\n",
    "\n",
    "# Get reference\n",
    "files.remove(REF)\n",
    "f,z,Data = multi_read_obr([REF],path_to_data,limit1=limit1,limit2=limit2)\n",
    "Data_REF = Data[REF]\n",
    "\n",
    "# Get spectralshifts\n",
    "spectralshifts = list()\n",
    "for i,file in enumerate(files):\n",
    "    f,z,Data = multi_read_obr([file],path_to_data,limit1=limit1,limit2=limit2)\n",
    "    spectralshift = global_spectral_shift(Data_REF[0],Data[file][0],f,delta=delta,window=window)\n",
    "    spectralshifts.append(spectralshift)\n",
    "\n",
    "z = np.linspace(z[0],z[-1],len(spectralshift))\n",
    "\n",
    "# Plot\n",
    "for spectralshift,file in zip(spectralshifts,files):\n",
    "    plt.plot(z,spectralshift,'*',label=file)\n",
    "\n",
    "\n",
    "plt.show()"
   ]
  },
  {
   "cell_type": "code",
   "execution_count": null,
   "metadata": {
    "gradient": {
     "editing": false,
     "id": "c50f18d6-8324-44ee-940b-844dffe06596",
     "kernelId": "4ecac8bd-b85c-4bb2-b5ee-71db29a5d5b8"
    },
    "jupyter": {
     "outputs_hidden": false,
     "source_hidden": false
    },
    "nteract": {
     "transient": {
      "deleting": false
     }
    }
   },
   "outputs": [],
   "source": []
  }
 ],
 "metadata": {
  "kernel_info": {
   "name": "python3-azureml"
  },
  "kernelspec": {
   "display_name": "Python 3.6 - AzureML",
   "language": "python",
   "name": "python3-azureml"
  },
  "language_info": {
   "codemirror_mode": {
    "name": "ipython",
    "version": 3
   },
   "file_extension": ".py",
   "mimetype": "text/x-python",
   "name": "python",
   "nbconvert_exporter": "python",
   "pygments_lexer": "ipython3",
   "version": "3.6.9"
  },
  "microsoft": {
   "host": {
    "AzureML": {
     "notebookHasBeenCompleted": true
    }
   }
  },
  "nteract": {
   "version": "nteract-front-end@1.0.0"
  }
 },
 "nbformat": 4,
 "nbformat_minor": 2
}
