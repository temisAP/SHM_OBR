{
 "cells": [
  {
   "cell_type": "code",
   "execution_count": null,
   "id": "6a42d9fb-164e-40b6-9e20-ceda5d205223",
   "metadata": {
    "collapsed": false,
    "gradient": {
     "editing": false,
     "id": "6a42d9fb-164e-40b6-9e20-ceda5d205223",
     "kernelId": "c5e098d7-ea7e-4518-9804-bbd94221dd01",
     "source_hidden": false
    }
   },
   "outputs": [],
   "source": [
    "import os\n",
    "import sys\n",
    "\n",
    "sys.path.append('../0_sources/PYTHON')\n",
    "\n",
    "from DATASETS import DATASETS"
   ]
  },
  {
   "cell_type": "code",
   "execution_count": null,
   "id": "5011d7a4-38a4-45ae-bfe5-ddb72171eaa5",
   "metadata": {
    "collapsed": false,
    "gradient": {
     "editing": false,
     "id": "5011d7a4-38a4-45ae-bfe5-ddb72171eaa5",
     "kernelId": "c5e098d7-ea7e-4518-9804-bbd94221dd01",
     "source_hidden": false
    }
   },
   "outputs": [],
   "source": [
    "dataset = 'CMT'\n",
    "path_to_folder = f'/mnt/sda/0_Andres/1_Universidad/Beca_SHM/98_data/0_CALIBRACION/{dataset}'\n",
    "path_to_folder = f'../../../../Datasets/{dataset}'\n",
    "path_to_folder = rf'C:\\Users\\Luna\\Desktop\\Andres\\Data\\{dataset}'\n",
    "path_to_folder = f'../../{dataset}'"
   ]
  },
  {
   "cell_type": "code",
   "execution_count": null,
   "id": "52fed2fa-0ba0-4fa5-98f4-f43e8b8e4cf2",
   "metadata": {
    "collapsed": false,
    "gradient": {
     "editing": false,
     "id": "52fed2fa-0ba0-4fa5-98f4-f43e8b8e4cf2",
     "kernelId": "c5e098d7-ea7e-4518-9804-bbd94221dd01",
     "source_hidden": false
    }
   },
   "outputs": [],
   "source": [
    "CM2_obj = DATASETS(path_to_folder,showpath=True)\n",
    "#CM2_obj.save()\n",
    "\n",
    "#CM2_obj.obr()\n",
    "#CM2_obj.computeOBR()\n",
    "#CM2_obj.save()\n",
    "\n",
    "CM2_obj.obr2slices()\n",
    "CM2_obj.save()\n",
    "\n",
    "#slices = CM2_obj.load_slices()\n",
    "\n",
    "#CM2_obj.slices2dataset(matches=7,percentage=20)\n",
    "#CM2_obj.save()\n"
   ]
  },
  {
   "cell_type": "code",
   "execution_count": null,
   "id": "8d671dfc-e55b-4067-9687-d9c4d44df71b",
   "metadata": {
    "collapsed": false,
    "gradient": {
     "editing": false,
     "id": "8d671dfc-e55b-4067-9687-d9c4d44df71b",
     "kernelId": "c5e098d7-ea7e-4518-9804-bbd94221dd01",
     "source_hidden": false
    }
   },
   "outputs": [
    {
     "ename": "NameError",
     "evalue": "name 'genCONDITIONStemplate' is not defined",
     "output_type": "error",
     "traceback": [
      "\u001b[0;31m---------------------------------------------------------------------------\u001b[0m",
      "\u001b[0;31mNameError\u001b[0m                                 Traceback (most recent call last)",
      "Input \u001b[0;32mIn [4]\u001b[0m, in \u001b[0;36m<module>\u001b[0;34m\u001b[0m\n\u001b[0;32m----> 1\u001b[0m \u001b[43mgenCONDITIONStemplate\u001b[49m\n",
      "\u001b[0;31mNameError\u001b[0m: name 'genCONDITIONStemplate' is not defined"
     ]
    }
   ],
   "source": []
  }
 ],
 "metadata": {},
 "nbformat": 4,
 "nbformat_minor": 5
}
