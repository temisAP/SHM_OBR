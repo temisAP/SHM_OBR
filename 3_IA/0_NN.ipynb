{
 "cells": [
  {
   "cell_type": "code",
   "execution_count": 6,
   "metadata": {
    "execution": {
     "iopub.execute_input": "2022-04-03T18:43:06.677233Z",
     "iopub.status.busy": "2022-04-03T18:43:06.676966Z",
     "iopub.status.idle": "2022-04-03T18:43:06.681736Z",
     "shell.execute_reply": "2022-04-03T18:43:06.680709Z",
     "shell.execute_reply.started": "2022-04-03T18:43:06.677206Z"
    },
    "gather": {
     "logged": 1648639874652
    },
    "gradient": {
     "editing": false,
     "id": "cd5deba1-a7a8-49a8-a3ad-5f3892611780",
     "kernelId": "a1c6dee7-8b0f-43f3-ae2e-1f2dfce7edb1"
    }
   },
   "outputs": [],
   "source": [
    "import os\n",
    "import sys\n",
    "\n",
    "sys.path.append('../0_sources/PYTHON')\n",
    "\n",
    "from IA import IA"
   ]
  },
  {
   "cell_type": "code",
   "execution_count": 7,
   "metadata": {
    "collapsed": false,
    "execution": {
     "iopub.execute_input": "2022-04-03T18:43:06.709451Z",
     "iopub.status.busy": "2022-04-03T18:43:06.708861Z",
     "iopub.status.idle": "2022-04-03T18:43:06.714152Z",
     "shell.execute_reply": "2022-04-03T18:43:06.713089Z",
     "shell.execute_reply.started": "2022-04-03T18:43:06.709424Z"
    },
    "gather": {
     "logged": 1648639874897
    },
    "gradient": {
     "editing": true,
     "id": "ef8f6baa-1e3c-46e0-9747-3d828158bf62",
     "kernelId": "a1c6dee7-8b0f-43f3-ae2e-1f2dfce7edb1"
    },
    "jupyter": {
     "outputs_hidden": false,
     "source_hidden": false
    },
    "nteract": {
     "transient": {
      "deleting": false
     }
    }
   },
   "outputs": [],
   "source": [
    "dataset = 'CM2'\n",
    "path_to_dataset = f'../../../../Datasets/{dataset}/3_DATASET/dataset.pkl'\n",
    "path_to_dataset1 = f'/mnt/sda/0_Andres/1_Universidad/Beca_SHM/98_data/0_CALIBRACION/{dataset}/3_DATASET/dataset.pkl'\n",
    "path_to_dataset1 = f'./datasets/{dataset}.pkl'\n",
    "\n",
    "dataset = 'CT2'\n",
    "path_to_dataset = f'../../../../Datasets/{dataset}/3_DATASET/dataset.pkl'\n",
    "path_to_dataset2 = f'/mnt/sda/0_Andres/1_Universidad/Beca_SHM/98_data/0_CALIBRACION/{dataset}/3_DATASET/dataset.pkl'\n",
    "path_to_dataset2 = f'./datasets/{dataset}.pkl'\n"
   ]
  },
  {
   "cell_type": "code",
   "execution_count": 8,
   "metadata": {
    "collapsed": false,
    "execution": {
     "iopub.execute_input": "2022-04-03T18:43:06.725211Z",
     "iopub.status.busy": "2022-04-03T18:43:06.724544Z",
     "iopub.status.idle": "2022-04-03T18:43:08.467413Z",
     "shell.execute_reply": "2022-04-03T18:43:08.466354Z",
     "shell.execute_reply.started": "2022-04-03T18:43:06.725170Z"
    },
    "gather": {
     "logged": 1648639901913
    },
    "gradient": {
     "editing": false,
     "id": "2f94f0e8-0e1d-4796-a256-48f9e64aca2a",
     "kernelId": "a1c6dee7-8b0f-43f3-ae2e-1f2dfce7edb1"
    },
    "jupyter": {
     "outputs_hidden": false,
     "source_hidden": false
    },
    "nteract": {
     "transient": {
      "deleting": false
     }
    }
   },
   "outputs": [
    {
     "name": "stdout",
     "output_type": "stream",
     "text": [
      "Let's do some magic with cuda\n",
      "\n",
      "NO OBJECT FOUND IN PATH\n",
      "Creating new one \n",
      "\n"
     ]
    }
   ],
   "source": [
    "IA_obj = IA('./models',name=dataset)"
   ]
  },
  {
   "cell_type": "code",
   "execution_count": 9,
   "metadata": {
    "collapsed": false,
    "execution": {
     "iopub.execute_input": "2022-04-03T18:43:08.469735Z",
     "iopub.status.busy": "2022-04-03T18:43:08.469448Z",
     "iopub.status.idle": "2022-04-03T18:43:25.426788Z",
     "shell.execute_reply": "2022-04-03T18:43:25.425928Z",
     "shell.execute_reply.started": "2022-04-03T18:43:08.469699Z"
    },
    "gather": {
     "logged": 1648639902228
    },
    "gradient": {
     "editing": false,
     "id": "16dd9ce6-5c5b-4b3a-9f88-ade627497ae9",
     "kernelId": "a1c6dee7-8b0f-43f3-ae2e-1f2dfce7edb1"
    },
    "jupyter": {
     "outputs_hidden": false,
     "source_hidden": false
    },
    "nteract": {
     "transient": {
      "deleting": false
     }
    }
   },
   "outputs": [
    {
     "name": "stdout",
     "output_type": "stream",
     "text": [
      "\n",
      "IA dataset is empty\n",
      "\n",
      "Loading ./datasets/CM2.pkl\n",
      "\n",
      "DATASET loaded!\n",
      "\n",
      "Loading ./datasets/CT2.pkl\n",
      "\n",
      "DATASET loaded!\n"
     ]
    }
   ],
   "source": [
    "#IA_obj.load_datasets([path_to_dataset1,path_to_dataset2],plot_histogram=True,plot_preprocessing=False); IA_obj.save()\n",
    "IA_obj.load_datasets([path_to_dataset1,path_to_dataset2]) #; IA_obj.save()"
   ]
  },
  {
   "cell_type": "code",
   "execution_count": 12,
   "metadata": {
    "collapsed": false,
    "execution": {
     "iopub.execute_input": "2022-04-03T18:46:54.745057Z",
     "iopub.status.busy": "2022-04-03T18:46:54.744801Z",
     "iopub.status.idle": "2022-04-03T18:54:56.212069Z",
     "shell.execute_reply": "2022-04-03T18:54:56.211422Z",
     "shell.execute_reply.started": "2022-04-03T18:46:54.745032Z"
    },
    "gather": {
     "logged": 1648640069849
    },
    "gradient": {
     "editing": false,
     "id": "f86be376-2240-4b51-b2a7-ae8a106da600",
     "kernelId": "a1c6dee7-8b0f-43f3-ae2e-1f2dfce7edb1"
    },
    "jupyter": {
     "outputs_hidden": false,
     "source_hidden": false
    },
    "nteract": {
     "transient": {
      "deleting": false
     }
    }
   },
   "outputs": [
    {
     "name": "stdout",
     "output_type": "stream",
     "text": [
      "\n",
      "Fitting data\n",
      "\n",
      "Epoch: 1 of 30 || Remaining time: 00:07:57\n",
      " Training T loss: 0.9277 || Validation T loss: 0.5534 \n",
      " Training E loss: 0.8275 || Validation E loss: 0.3182 \n",
      "Epoch: 2 of 30 || Remaining time: 00:07:42\n",
      " Training T loss: 0.7077 || Validation T loss: 0.2903 \n",
      " Training E loss: 0.6839 || Validation E loss: 0.2192 \n",
      "Epoch: 3 of 30 || Remaining time: 00:07:25\n",
      " Training T loss: 0.4984 || Validation T loss: 0.1405 \n",
      " Training E loss: 0.6389 || Validation E loss: 0.1951 \n",
      "Epoch: 4 of 30 || Remaining time: 00:07:09\n",
      " Training T loss: 0.3611 || Validation T loss: 0.0733 \n",
      " Training E loss: 0.6226 || Validation E loss: 0.1917 \n",
      "Epoch: 5 of 30 || Remaining time: 00:06:53\n",
      " Training T loss: 0.2980 || Validation T loss: 0.0514 \n",
      " Training E loss: 0.6107 || Validation E loss: 0.1922 \n",
      "Epoch: 6 of 30 || Remaining time: 00:06:38\n",
      " Training T loss: 0.2713 || Validation T loss: 0.0476 \n",
      " Training E loss: 0.6092 || Validation E loss: 0.1924 \n",
      "Epoch: 7 of 30 || Remaining time: 00:06:22\n",
      " Training T loss: 0.2620 || Validation T loss: 0.0489 \n",
      " Training E loss: 0.6096 || Validation E loss: 0.1924 \n",
      "Epoch: 8 of 30 || Remaining time: 00:06:06\n",
      " Training T loss: 0.2584 || Validation T loss: 0.0511 \n",
      " Training E loss: 0.6066 || Validation E loss: 0.1932 \n",
      "Epoch: 9 of 30 || Remaining time: 00:05:50\n",
      " Training T loss: 0.2553 || Validation T loss: 0.0527 \n",
      " Training E loss: 0.6162 || Validation E loss: 0.1921 \n",
      "Epoch: 10 of 30 || Remaining time: 00:05:34\n",
      " Training T loss: 0.2567 || Validation T loss: 0.0527 \n",
      " Training E loss: 0.6086 || Validation E loss: 0.1918 \n",
      "Epoch: 11 of 30 || Remaining time: 00:05:18\n",
      " Training T loss: 0.2526 || Validation T loss: 0.0518 \n",
      " Training E loss: 0.6170 || Validation E loss: 0.1918 \n",
      "Epoch: 12 of 30 || Remaining time: 00:05:02\n",
      " Training T loss: 0.2445 || Validation T loss: 0.0524 \n",
      " Training E loss: 0.5950 || Validation E loss: 0.1938 \n",
      "Epoch: 13 of 30 || Remaining time: 00:04:46\n",
      " Training T loss: 0.2614 || Validation T loss: 0.0511 \n",
      " Training E loss: 0.6124 || Validation E loss: 0.1916 \n",
      "Epoch: 14 of 30 || Remaining time: 00:04:31\n",
      " Training T loss: 0.2531 || Validation T loss: 0.0518 \n",
      " Training E loss: 0.6097 || Validation E loss: 0.1921 \n",
      "Epoch: 15 of 30 || Remaining time: 00:04:15\n",
      " Training T loss: 0.2542 || Validation T loss: 0.0523 \n",
      " Training E loss: 0.6058 || Validation E loss: 0.1925 \n",
      "Epoch: 16 of 30 || Remaining time: 00:03:59\n",
      " Training T loss: 0.2448 || Validation T loss: 0.0520 \n",
      " Training E loss: 0.5967 || Validation E loss: 0.1925 \n",
      "Epoch: 17 of 30 || Remaining time: 00:03:43\n",
      " Training T loss: 0.2456 || Validation T loss: 0.0512 \n",
      " Training E loss: 0.6023 || Validation E loss: 0.1916 \n",
      "Epoch: 18 of 30 || Remaining time: 00:03:27\n",
      " Training T loss: 0.2444 || Validation T loss: 0.0529 \n",
      " Training E loss: 0.5979 || Validation E loss: 0.1934 \n",
      "Epoch: 19 of 30 || Remaining time: 00:03:11\n",
      " Training T loss: 0.2498 || Validation T loss: 0.0518 \n",
      " Training E loss: 0.5882 || Validation E loss: 0.1916 \n",
      "Epoch: 20 of 30 || Remaining time: 00:02:55\n",
      " Training T loss: 0.2390 || Validation T loss: 0.0517 \n",
      " Training E loss: 0.6128 || Validation E loss: 0.1914 \n",
      "Epoch: 21 of 30 || Remaining time: 00:02:39\n",
      " Training T loss: 0.2382 || Validation T loss: 0.0520 \n",
      " Training E loss: 0.5862 || Validation E loss: 0.1917 \n",
      "Epoch: 22 of 30 || Remaining time: 00:02:23\n",
      " Training T loss: 0.2476 || Validation T loss: 0.0517 \n",
      " Training E loss: 0.5881 || Validation E loss: 0.1921 \n",
      "Epoch: 23 of 30 || Remaining time: 00:02:07\n",
      " Training T loss: 0.2341 || Validation T loss: 0.0517 \n",
      " Training E loss: 0.5790 || Validation E loss: 0.1933 \n",
      "Epoch: 24 of 30 || Remaining time: 00:01:51\n",
      " Training T loss: 0.2402 || Validation T loss: 0.0516 \n",
      " Training E loss: 0.5822 || Validation E loss: 0.1920 \n",
      "Epoch: 25 of 30 || Remaining time: 00:01:35\n",
      " Training T loss: 0.2309 || Validation T loss: 0.0515 \n",
      " Training E loss: 0.5796 || Validation E loss: 0.1915 \n",
      "Epoch: 26 of 30 || Remaining time: 00:01:19\n",
      " Training T loss: 0.2383 || Validation T loss: 0.0511 \n",
      " Training E loss: 0.5798 || Validation E loss: 0.1919 \n",
      "Epoch: 27 of 30 || Remaining time: 00:01:03\n",
      " Training T loss: 0.2364 || Validation T loss: 0.0513 \n",
      " Training E loss: 0.5764 || Validation E loss: 0.1916 \n",
      "Epoch: 28 of 30 || Remaining time: 00:00:47\n",
      " Training T loss: 0.2239 || Validation T loss: 0.0511 \n",
      " Training E loss: 0.5995 || Validation E loss: 0.1931 \n",
      "Epoch: 29 of 30 || Remaining time: 00:00:31\n",
      " Training T loss: 0.2351 || Validation T loss: 0.0509 \n",
      " Training E loss: 0.5958 || Validation E loss: 0.1931 \n",
      "Epoch: 30 of 30 || Remaining time: 00:00:15\n",
      " Training T loss: 0.2284 || Validation T loss: 0.0508 \n",
      " Training E loss: 0.5731 || Validation E loss: 0.1922 \n"
     ]
    },
    {
     "data": {
      "image/png": "[encoded data removed]",
      "text/plain": [
       "<Figure size 432x288 with 1 Axes>"
      ]
     },
     "metadata": {
      "needs_background": "light"
     },
     "output_type": "display_data"
    },
    {
     "name": "stdout",
     "output_type": "stream",
     "text": [
      "Temperature model saved!\n",
      "Deformation model saved!\n"
     ]
    }
   ],
   "source": [
    "IA_obj.fit_data(15,lr=0.05e-7); # IA_obj.save(); \n",
    "IA_obj.save_model()\n"
   ]
  },
  {
   "cell_type": "code",
   "execution_count": 13,
   "metadata": {
    "collapsed": false,
    "execution": {
     "iopub.execute_input": "2022-04-03T18:56:20.765390Z",
     "iopub.status.busy": "2022-04-03T18:56:20.765134Z",
     "iopub.status.idle": "2022-04-03T18:57:12.662992Z",
     "shell.execute_reply": "2022-04-03T18:57:12.662024Z",
     "shell.execute_reply.started": "2022-04-03T18:56:20.765364Z"
    },
    "gather": {
     "logged": 1648640128005
    },
    "gradient": {
     "editing": false,
     "id": "76a3bd57-d5de-4ffb-88b1-16ba98e1e3e6",
     "kernelId": "a1c6dee7-8b0f-43f3-ae2e-1f2dfce7edb1"
    },
    "jupyter": {
     "outputs_hidden": false,
     "source_hidden": false
    },
    "nteract": {
     "transient": {
      "deleting": false
     }
    }
   },
   "outputs": [
    {
     "name": "stdout",
     "output_type": "stream",
     "text": [
      "Error absoluto medio Temperatura: 27.5307 K \n",
      "Error absoluto medio Deformación: 121.9232 micro\n"
     ]
    },
    {
     "data": {
      "image/png": "[encoded data removed]",
      "text/plain": [
       "<Figure size 432x288 with 1 Axes>"
      ]
     },
     "metadata": {
      "needs_background": "light"
     },
     "output_type": "display_data"
    },
    {
     "data": {
      "image/png": "[encoded data removed]",
      "text/plain": [
       "<Figure size 432x288 with 1 Axes>"
      ]
     },
     "metadata": {
      "needs_background": "light"
     },
     "output_type": "display_data"
    }
   ],
   "source": [
    "IA_obj.results(); #IA_obj.save(); IA_obj.save_model()#"
   ]
  }
 ],
 "metadata": {
  "kernel_info": {
   "name": "python38-azureml"
  },
  "kernelspec": {
   "display_name": "Python 3 (ipykernel)",
   "language": "python",
   "name": "python3"
  },
  "language_info": {
   "codemirror_mode": {
    "name": "ipython",
    "version": 3
   },
   "file_extension": ".py",
   "mimetype": "text/x-python",
   "name": "python",
   "nbconvert_exporter": "python",
   "pygments_lexer": "ipython3",
   "version": "3.8.12"
  },
  "microsoft": {
   "host": {
    "AzureML": {
     "notebookHasBeenCompleted": true
    }
   }
  },
  "nteract": {
   "version": "nteract-front-end@1.0.0"
  }
 },
 "nbformat": 4,
 "nbformat_minor": 4
}
