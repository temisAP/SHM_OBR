{
 "cells": [
  {
   "cell_type": "code",
   "execution_count": null,
   "id": "b0d960df-e52c-49b9-9a5b-e6ec5712bece",
   "metadata": {
    "collapsed": false,
    "gradient": {
     "editing": false,
     "id": "b0d960df-e52c-49b9-9a5b-e6ec5712bece",
     "kernelId": "5e87742b-84ec-437b-9f6e-24538b701ec0",
     "source_hidden": false
    }
   },
   "outputs": [],
   "source": [
    "!git config --global user.email \"temisap.98@gmail.com\"\n",
    "!git config --global user.name \"temisAP\""
   ]
  },
  {
   "cell_type": "code",
   "execution_count": null,
   "id": "d161026e-17d6-4633-9ccb-192ea740f94a",
   "metadata": {
    "collapsed": false,
    "gradient": {
     "editing": false,
     "id": "d161026e-17d6-4633-9ccb-192ea740f94a",
     "kernelId": "5e87742b-84ec-437b-9f6e-24538b701ec0",
     "source_hidden": false
    }
   },
   "outputs": [],
   "source": [
    "!git add --all"
   ]
  },
  {
   "cell_type": "code",
   "execution_count": null,
   "id": "0421d5fd-c093-4308-b13d-77b1408797e4",
   "metadata": {
    "collapsed": false,
    "gradient": {
     "editing": false,
     "id": "0421d5fd-c093-4308-b13d-77b1408797e4",
     "kernelId": "5e87742b-84ec-437b-9f6e-24538b701ec0",
     "source_hidden": false
    }
   },
   "outputs": [
    {
     "name": "stdout",
     "output_type": "stream",
     "text": [
      "[main a731334] paperspace rocks (a little)\r\n",
      " 2 files changed, 43 insertions(+), 67 deletions(-)\r\n"
     ]
    }
   ],
   "source": [
    "!git commit -m 'paperspace rocks (a little)'"
   ]
  },
  {
   "cell_type": "code",
   "execution_count": null,
   "id": "36e5d3e7-bbcd-4fad-b80e-7539545c48ec",
   "metadata": {
    "collapsed": false,
    "gradient": {
     "editing": false,
     "id": "36e5d3e7-bbcd-4fad-b80e-7539545c48ec",
     "kernelId": "5e87742b-84ec-437b-9f6e-24538b701ec0",
     "source_hidden": false
    }
   },
   "outputs": [
    {
     "name": "stdout",
     "output_type": "stream",
     "text": [
      "Enumerating objects: 9, done.\r\n",
      "Counting objects:  11% (1/9)\r",
      "Counting objects:  22% (2/9)\r",
      "Counting objects:  33% (3/9)\r",
      "Counting objects:  44% (4/9)\r",
      "Counting objects:  55% (5/9)\r",
      "Counting objects:  66% (6/9)\r",
      "Counting objects:  77% (7/9)\r",
      "Counting objects:  88% (8/9)\r",
      "Counting objects: 100% (9/9)\r",
      "Counting objects: 100% (9/9), done.\r\n",
      "Delta compression using up to 8 threads\r\n",
      "Compressing objects:  20% (1/5)\r",
      "Compressing objects:  40% (2/5)\r",
      "Compressing objects:  60% (3/5)\r",
      "Compressing objects:  80% (4/5)\r",
      "Compressing objects: 100% (5/5)\r",
      "Compressing objects: 100% (5/5), done.\r\n",
      "Writing objects:  20% (1/5)\r",
      "Writing objects:  40% (2/5)\r",
      "Writing objects:  60% (3/5)\r",
      "Writing objects:  80% (4/5)\r",
      "Writing objects: 100% (5/5)\r",
      "Writing objects: 100% (5/5), 858 bytes | 858.00 KiB/s, done.\r\n",
      "Total 5 (delta 4), reused 0 (delta 0)\r\n"
     ]
    },
    {
     "name": "stdout",
     "output_type": "stream",
     "text": [
      "remote: Resolving deltas:   0% (0/4)\u001b[K\r",
      "remote: Resolving deltas:  25% (1/4)\u001b[K\r",
      "remote: Resolving deltas:  50% (2/4)\u001b[K\r",
      "remote: Resolving deltas:  75% (3/4)\u001b[K\r",
      "remote: Resolving deltas: 100% (4/4)\u001b[K\r",
      "remote: Resolving deltas: 100% (4/4), completed with 4 local objects.\u001b[K\r\n"
     ]
    },
    {
     "name": "stdout",
     "output_type": "stream",
     "text": [
      "To https://github.com/temisAP/Beca_SHM_IA.git\r\n",
      "   87a63a7..a731334  main -> main\r\n"
     ]
    }
   ],
   "source": [
    "!git push"
   ]
  },
  {
   "cell_type": "code",
   "execution_count": null,
   "id": "45864631-d474-4d25-b9a7-5e573cdaec33",
   "metadata": {
    "collapsed": false,
    "gradient": {
     "editing": false,
     "id": "45864631-d474-4d25-b9a7-5e573cdaec33",
     "kernelId": "5e87742b-84ec-437b-9f6e-24538b701ec0",
     "source_hidden": false
    }
   },
   "outputs": [
    {
     "name": "stdout",
     "output_type": "stream",
     "text": [
      "remote: Enumerating objects: 7, done.\u001b[K\r\n",
      "remote: Counting objects:  14% (1/7)\u001b[K\r",
      "remote: Counting objects:  28% (2/7)\u001b[K\r",
      "remote: Counting objects:  42% (3/7)\u001b[K\r",
      "remote: Counting objects:  57% (4/7)\u001b[K\r",
      "remote: Counting objects:  71% (5/7)\u001b[K\r",
      "remote: Counting objects:  85% (6/7)\u001b[K\r",
      "remote: Counting objects: 100% (7/7)\u001b[K\r",
      "remote: Counting objects: 100% (7/7), done.\u001b[K\r\n",
      "remote: Compressing objects: 100% (1/1)\u001b[K\r",
      "remote: Compressing objects: 100% (1/1), done.\u001b[K\r\n",
      "remote: Total 4 (delta 3), reused 4 (delta 3), pack-reused 0\u001b[K\r\n",
      "Unpacking objects:  25% (1/4)\r",
      "Unpacking objects:  50% (2/4)\r",
      "Unpacking objects:  75% (3/4)\r"
     ]
    },
    {
     "name": "stdout",
     "output_type": "stream",
     "text": [
      "Unpacking objects: 100% (4/4)\r",
      "Unpacking objects: 100% (4/4), 348 bytes | 3.00 KiB/s, done.\r\n"
     ]
    },
    {
     "name": "stdout",
     "output_type": "stream",
     "text": [
      "From https://github.com/temisAP/Beca_SHM_IA\r\n",
      "   30ec8bc..87a63a7  main       -> origin/main\r\n"
     ]
    },
    {
     "name": "stdout",
     "output_type": "stream",
     "text": [
      "Updating 30ec8bc..87a63a7\r\n",
      "Fast-forward\r\n"
     ]
    },
    {
     "name": "stdout",
     "output_type": "stream",
     "text": [
      " 3_IA/1_NN.py | 1 \u001b[32m+\u001b[m\r\n",
      " 1 file changed, 1 insertion(+)\r\n"
     ]
    }
   ],
   "source": [
    "!git pull"
   ]
  },
  {
   "cell_type": "code",
   "execution_count": null,
   "id": "ac611eab-0112-441d-8a5e-3ba4162bddf2",
   "metadata": {
    "collapsed": false,
    "gradient": {
     "editing": false,
     "id": "ac611eab-0112-441d-8a5e-3ba4162bddf2",
     "kernelId": "5e87742b-84ec-437b-9f6e-24538b701ec0",
     "source_hidden": false
    }
   },
   "outputs": [],
   "source": []
  }
 ],
 "metadata": {},
 "nbformat": 4,
 "nbformat_minor": 5
}
