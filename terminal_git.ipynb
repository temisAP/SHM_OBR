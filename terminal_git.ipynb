{
 "cells": [
  {
   "cell_type": "code",
   "execution_count": null,
   "id": "b0d960df-e52c-49b9-9a5b-e6ec5712bece",
   "metadata": {
    "collapsed": false,
    "gradient": {
     "editing": false,
     "id": "b0d960df-e52c-49b9-9a5b-e6ec5712bece",
     "kernelId": "5e87742b-84ec-437b-9f6e-24538b701ec0",
     "source_hidden": false
    },
    "jupyter": {
     "outputs_hidden": false
    }
   },
   "outputs": [],
   "source": [
    "!git config --global user.email \"temisap.98@gmail.com\"\n",
    "!git config --global user.name \"temisAP\""
   ]
  },
  {
   "cell_type": "code",
   "execution_count": null,
   "id": "d161026e-17d6-4633-9ccb-192ea740f94a",
   "metadata": {
    "collapsed": false,
    "gradient": {
     "editing": false,
     "id": "d161026e-17d6-4633-9ccb-192ea740f94a",
     "kernelId": "5e87742b-84ec-437b-9f6e-24538b701ec0",
     "source_hidden": false
    },
    "jupyter": {
     "outputs_hidden": false
    }
   },
   "outputs": [],
   "source": [
    "!git add --all"
   ]
  },
  {
   "cell_type": "code",
   "execution_count": null,
   "id": "0421d5fd-c093-4308-b13d-77b1408797e4",
   "metadata": {
    "collapsed": false,
    "gradient": {
     "editing": false,
     "id": "0421d5fd-c093-4308-b13d-77b1408797e4",
     "kernelId": "5e87742b-84ec-437b-9f6e-24538b701ec0",
     "source_hidden": false
    },
    "jupyter": {
     "outputs_hidden": false
    }
   },
   "outputs": [
    {
     "name": "stdout",
     "output_type": "stream",
     "text": [
      "[main 83582c7] paperspace rocks (a little)\n",
      " 11 files changed, 3620 insertions(+), 552 deletions(-)\n",
      " create mode 100644 .ipynb_checkpoints/terminal_git-checkpoint.ipynb\n",
      " create mode 100644 1_data/.ipynb_checkpoints/TD_gen-checkpoint.ipynb\n",
      " create mode 100644 1_data/.ipynb_checkpoints/plotSS-checkpoint.ipynb\n",
      " create mode 100644 1_data/TD_gen.ipynb\n",
      " rewrite 1_data/plotSS.ipynb (97%)\n",
      " rewrite terminal.ipynb (74%)\n",
      " create mode 100644 terminal_git.ipynb\n"
     ]
    }
   ],
   "source": [
    "!git commit -m 'paperspace rocks (a little)'"
   ]
  },
  {
   "cell_type": "code",
   "execution_count": null,
   "id": "36e5d3e7-bbcd-4fad-b80e-7539545c48ec",
   "metadata": {
    "collapsed": false,
    "gradient": {
     "editing": false,
     "id": "36e5d3e7-bbcd-4fad-b80e-7539545c48ec",
     "kernelId": "5e87742b-84ec-437b-9f6e-24538b701ec0",
     "source_hidden": false
    },
    "jupyter": {
     "outputs_hidden": false
    }
   },
   "outputs": [
    {
     "name": "stdout",
     "output_type": "stream",
     "text": [
      "Enumerating objects: 31, done.\n",
      "Counting objects: 100% (31/31), done.\n",
      "Delta compression using up to 8 threads\n",
      "Compressing objects: 100% (17/17), done.\n",
      "Writing objects: 100% (18/18), 28.83 KiB | 7.21 MiB/s, done.\n",
      "Total 18 (delta 8), reused 0 (delta 0)\n",
      "remote: Resolving deltas: 100% (8/8), completed with 7 local objects.\u001b[K\n",
      "To https://github.com/temisAP/Beca_SHM_IA.git\n",
      "   a731334..83582c7  main -> main\n"
     ]
    }
   ],
   "source": [
    "!git push"
   ]
  },
  {
   "cell_type": "code",
   "execution_count": null,
   "id": "45864631-d474-4d25-b9a7-5e573cdaec33",
   "metadata": {
    "collapsed": false,
    "gradient": {
     "editing": false,
     "id": "45864631-d474-4d25-b9a7-5e573cdaec33",
     "kernelId": "5e87742b-84ec-437b-9f6e-24538b701ec0",
     "source_hidden": false
    },
    "jupyter": {
     "outputs_hidden": false
    }
   },
   "outputs": [
    {
     "name": "stdout",
     "output_type": "stream",
     "text": [
      "remote: Enumerating objects: 7, done.\u001b[K\n",
      "remote: Counting objects: 100% (7/7), done.\u001b[K\n",
      "remote: Compressing objects: 100% (1/1), done.\u001b[K\n",
      "remote: Total 4 (delta 3), reused 4 (delta 3), pack-reused 0\u001b[K\n",
      "Unpacking objects: 100% (4/4), 348 bytes | 3.00 KiB/s, done.\n",
      "From https://github.com/temisAP/Beca_SHM_IA\n",
      "   30ec8bc..87a63a7  main       -> origin/main\n",
      "Updating 30ec8bc..87a63a7\n",
      "Fast-forward\n",
      " 3_IA/1_NN.py | 1 \u001b[32m+\u001b[m\n",
      " 1 file changed, 1 insertion(+)\n"
     ]
    }
   ],
   "source": [
    "!git pull"
   ]
  },
  {
   "cell_type": "code",
   "execution_count": null,
   "id": "ac611eab-0112-441d-8a5e-3ba4162bddf2",
   "metadata": {
    "collapsed": false,
    "gradient": {
     "editing": false,
     "id": "ac611eab-0112-441d-8a5e-3ba4162bddf2",
     "kernelId": "5e87742b-84ec-437b-9f6e-24538b701ec0",
     "source_hidden": false
    },
    "jupyter": {
     "outputs_hidden": false
    }
   },
   "outputs": [],
   "source": []
  }
 ],
 "metadata": {
  "kernelspec": {
   "display_name": "Python 3 (ipykernel)",
   "language": "python",
   "name": "python3"
  },
  "language_info": {
   "name": ""
  }
 },
 "nbformat": 4,
 "nbformat_minor": 5
}
