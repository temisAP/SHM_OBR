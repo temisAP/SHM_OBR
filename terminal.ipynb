{
 "cells": [
  {
   "cell_type": "code",
   "execution_count": null,
   "id": "45864631-d474-4d25-b9a7-5e573cdaec33",
   "metadata": {
    "collapsed": false,
    "gradient": {
     "editing": false,
     "execution_count": 1,
     "id": "45864631-d474-4d25-b9a7-5e573cdaec33",
     "kernelId": "59b49b79-6c7e-4e09-8281-f9dbe1add91f",
     "source_hidden": false
    }
   },
   "outputs": [
    {
     "name": "stdout",
     "output_type": "stream",
     "text": [
      "remote: Enumerating objects: 3, done.\u001b[K\r\n",
      "remote: Counting objects:  33% (1/3)\u001b[K\r",
      "remote: Counting objects:  66% (2/3)\u001b[K\r",
      "remote: Counting objects: 100% (3/3)\u001b[K\r",
      "remote: Counting objects: 100% (3/3), done.\u001b[K\r\n",
      "remote: Compressing objects: 100% (1/1)\u001b[K\r",
      "remote: Compressing objects: 100% (1/1), done.\u001b[K\r\n",
      "remote: Total 2 (delta 1), reused 2 (delta 1), pack-reused 0\u001b[K\r\n"
     ]
    },
    {
     "name": "stdout",
     "output_type": "stream",
     "text": [
      "Unpacking objects:  50% (1/2)\r",
      "Unpacking objects: 100% (2/2)\r",
      "Unpacking objects: 100% (2/2), 202 bytes | 10.00 KiB/s, done.\r\n"
     ]
    },
    {
     "name": "stdout",
     "output_type": "stream",
     "text": [
      "From https://github.com/temisAP/Beca_SHM_IA\r\n",
      "   3d899f3..b543033  main       -> origin/main\r\n"
     ]
    },
    {
     "name": "stdout",
     "output_type": "stream",
     "text": [
      "Updating 3d899f3..b543033\r\n"
     ]
    },
    {
     "name": "stdout",
     "output_type": "stream",
     "text": [
      "Fast-forward\r\n"
     ]
    },
    {
     "name": "stdout",
     "output_type": "stream",
     "text": [
      " READY | 0\r\n",
      " 1 file changed, 0 insertions(+), 0 deletions(-)\r\n",
      " delete mode 100644 READY\r\n"
     ]
    }
   ],
   "source": [
    "!git pull"
   ]
  },
  {
   "cell_type": "code",
   "execution_count": null,
   "id": "d161026e-17d6-4633-9ccb-192ea740f94a",
   "metadata": {
    "collapsed": false,
    "gradient": {
     "editing": true,
     "execution_count": 2,
     "id": "d161026e-17d6-4633-9ccb-192ea740f94a",
     "kernelId": "59b49b79-6c7e-4e09-8281-f9dbe1add91f",
     "source_hidden": false
    }
   },
   "outputs": [
    {
     "name": "stdout",
     "output_type": "stream",
     "text": [
      "Everything up-to-date\r\n"
     ]
    }
   ],
   "source": [
    "!git add --all"
   ]
  },
  {
   "cell_type": "code",
   "execution_count": null,
   "id": "0421d5fd-c093-4308-b13d-77b1408797e4",
   "metadata": {
    "collapsed": false,
    "gradient": {
     "id": "0421d5fd-c093-4308-b13d-77b1408797e4",
     "kernelId": "59b49b79-6c7e-4e09-8281-f9dbe1add91f",
     "source_hidden": false
    }
   },
   "outputs": [],
   "source": []
  }
 ],
 "metadata": {},
 "nbformat": 4,
 "nbformat_minor": 5
}
