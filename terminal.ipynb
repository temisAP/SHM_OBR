{
 "cells": [
  {
   "cell_type": "code",
   "execution_count": null,
   "id": "b0d960df-e52c-49b9-9a5b-e6ec5712bece",
   "metadata": {
    "collapsed": false,
    "gradient": {
     "editing": false,
     "id": "b0d960df-e52c-49b9-9a5b-e6ec5712bece",
     "kernelId": "41e9a953-461d-41ea-9d9a-1c3b519c9f34",
     "source_hidden": false
    }
   },
   "outputs": [],
   "source": [
    "!git config --global user.email \"temisap.98@gmail.com\"\n",
    "!git config --global user.name \"temisAP\""
   ]
  },
  {
   "cell_type": "code",
   "execution_count": null,
   "id": "d161026e-17d6-4633-9ccb-192ea740f94a",
   "metadata": {
    "collapsed": false,
    "gradient": {
     "editing": false,
     "id": "d161026e-17d6-4633-9ccb-192ea740f94a",
     "kernelId": "41e9a953-461d-41ea-9d9a-1c3b519c9f34",
     "source_hidden": false
    }
   },
   "outputs": [],
   "source": [
    "!git add --all"
   ]
  },
  {
   "cell_type": "code",
   "execution_count": null,
   "id": "0421d5fd-c093-4308-b13d-77b1408797e4",
   "metadata": {
    "collapsed": false,
    "gradient": {
     "editing": false,
     "id": "0421d5fd-c093-4308-b13d-77b1408797e4",
     "kernelId": "41e9a953-461d-41ea-9d9a-1c3b519c9f34",
     "source_hidden": false
    }
   },
   "outputs": [
    {
     "name": "stdout",
     "output_type": "stream",
     "text": [
      "\r\n",
      "*** Please tell me who you are.\r\n",
      "\r\n",
      "Run\r\n",
      "\r\n",
      "  git config --global user.email \"you@example.com\"\r\n",
      "  git config --global user.name \"Your Name\"\r\n",
      "\r\n",
      "to set your account's default identity.\r\n",
      "Omit --global to set the identity only in this repository.\r\n",
      "\r\n",
      "fatal: unable to auto-detect email address (got 'root@nc75vbnekq.(none)')\r\n"
     ]
    }
   ],
   "source": [
    "!git commit -m 'paperspace rocks (a little)'"
   ]
  },
  {
   "cell_type": "code",
   "execution_count": null,
   "id": "36e5d3e7-bbcd-4fad-b80e-7539545c48ec",
   "metadata": {
    "collapsed": false,
    "gradient": {
     "editing": false,
     "id": "36e5d3e7-bbcd-4fad-b80e-7539545c48ec",
     "kernelId": "41e9a953-461d-41ea-9d9a-1c3b519c9f34",
     "source_hidden": false
    }
   },
   "outputs": [
    {
     "name": "stdout",
     "output_type": "stream",
     "text": [
      "Enumerating objects: 11, done.\r\n",
      "Counting objects:   9% (1/11)\r",
      "Counting objects:  18% (2/11)\r",
      "Counting objects:  27% (3/11)\r",
      "Counting objects:  36% (4/11)\r",
      "Counting objects:  45% (5/11)\r",
      "Counting objects:  54% (6/11)\r",
      "Counting objects:  63% (7/11)\r",
      "Counting objects:  72% (8/11)\r",
      "Counting objects:  81% (9/11)\r",
      "Counting objects:  90% (10/11)\r",
      "Counting objects: 100% (11/11)\r",
      "Counting objects: 100% (11/11), done.\r\n",
      "Delta compression using up to 8 threads\r\n",
      "Compressing objects:  14% (1/7)\r",
      "Compressing objects:  28% (2/7)\r",
      "Compressing objects:  42% (3/7)\r",
      "Compressing objects:  57% (4/7)\r",
      "Compressing objects:  71% (5/7)\r",
      "Compressing objects:  85% (6/7)\r",
      "Compressing objects: 100% (7/7)\r",
      "Compressing objects: 100% (7/7), done.\r\n",
      "Writing objects:  11% (1/9)\r",
      "Writing objects:  22% (2/9)\r",
      "Writing objects:  33% (3/9)\r",
      "Writing objects:  44% (4/9)\r",
      "Writing objects:  55% (5/9)\r",
      "Writing objects:  66% (6/9)\r",
      "Writing objects:  77% (7/9)\r",
      "Writing objects:  88% (8/9)\r",
      "Writing objects: 100% (9/9)\r",
      "Writing objects: 100% (9/9), 56.40 KiB | 11.28 MiB/s, done.\r\n",
      "Total 9 (delta 1), reused 0 (delta 0)\r\n"
     ]
    },
    {
     "name": "stdout",
     "output_type": "stream",
     "text": [
      "remote: Resolving deltas:   0% (0/1)\u001b[K\r",
      "remote: Resolving deltas: 100% (1/1)\u001b[K\r",
      "remote: Resolving deltas: 100% (1/1), completed with 1 local object.\u001b[K\r\n"
     ]
    },
    {
     "name": "stdout",
     "output_type": "stream",
     "text": [
      "To https://github.com/temisAP/Beca_SHM_IA.git\r\n",
      "   b543033..5aebc61  main -> main\r\n"
     ]
    }
   ],
   "source": [
    "!git push"
   ]
  },
  {
   "cell_type": "code",
   "execution_count": null,
   "id": "45864631-d474-4d25-b9a7-5e573cdaec33",
   "metadata": {
    "collapsed": false,
    "gradient": {
     "editing": false,
     "id": "45864631-d474-4d25-b9a7-5e573cdaec33",
     "kernelId": "41e9a953-461d-41ea-9d9a-1c3b519c9f34",
     "source_hidden": false
    }
   },
   "outputs": [
    {
     "name": "stdout",
     "output_type": "stream",
     "text": [
      "remote: Enumerating objects: 5, done.\u001b[K\r\n",
      "remote: Counting objects:  20% (1/5)\u001b[K\r",
      "remote: Counting objects:  40% (2/5)\u001b[K\r",
      "remote: Counting objects:  60% (3/5)\u001b[K\r",
      "remote: Counting objects:  80% (4/5)\u001b[K\r",
      "remote: Counting objects: 100% (5/5)\u001b[K\r",
      "remote: Counting objects: 100% (5/5), done.\u001b[K\r\n",
      "remote: Compressing objects: 100% (1/1)\u001b[K\r",
      "remote: Compressing objects: 100% (1/1), done.\u001b[K\r\n",
      "remote: Total 3 (delta 1), reused 3 (delta 1), pack-reused 0\u001b[K\r\n"
     ]
    },
    {
     "name": "stdout",
     "output_type": "stream",
     "text": [
      "Unpacking objects:  33% (1/3)\r",
      "Unpacking objects:  66% (2/3)\r",
      "Unpacking objects: 100% (3/3)\r",
      "Unpacking objects: 100% (3/3), 251 bytes | 1024 bytes/s, done.\r\n"
     ]
    },
    {
     "name": "stdout",
     "output_type": "stream",
     "text": [
      "From https://github.com/temisAP/Beca_SHM_IA\r\n",
      "   816f35b..ab3ebda  main       -> origin/main\r\n"
     ]
    },
    {
     "name": "stdout",
     "output_type": "stream",
     "text": [
      "Updating 816f35b..ab3ebda\r\n"
     ]
    },
    {
     "name": "stdout",
     "output_type": "stream",
     "text": [
      "Fast-forward\r\n"
     ]
    },
    {
     "name": "stdout",
     "output_type": "stream",
     "text": [
      " ARE U HERE? | 1 \u001b[32m+\u001b[m\r\n",
      " 1 file changed, 1 insertion(+)\r\n"
     ]
    }
   ],
   "source": [
    "!git pull"
   ]
  },
  {
   "cell_type": "code",
   "execution_count": null,
   "id": "ac611eab-0112-441d-8a5e-3ba4162bddf2",
   "metadata": {
    "collapsed": false,
    "gradient": {
     "editing": false,
     "id": "ac611eab-0112-441d-8a5e-3ba4162bddf2",
     "kernelId": "41e9a953-461d-41ea-9d9a-1c3b519c9f34",
     "source_hidden": false
    }
   },
   "outputs": [],
   "source": []
  }
 ],
 "metadata": {},
 "nbformat": 4,
 "nbformat_minor": 5
}
